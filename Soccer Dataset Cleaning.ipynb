{
 "cells": [
  {
   "cell_type": "code",
   "execution_count": 1,
   "metadata": {},
   "outputs": [],
   "source": [
    "import pandas as pd\n",
    "import numpy as np\n",
    "import os\n",
    "import math\n",
    "import matplotlib.pyplot as plt\n",
    "%matplotlib inline"
   ]
  },
  {
   "cell_type": "code",
   "execution_count": 2,
   "metadata": {},
   "outputs": [],
   "source": [
    "os.chdir(\"C:\\\\Users\\\\Dinesh\\\\Desktop\\\\DataSets\")"
   ]
  },
  {
   "cell_type": "code",
   "execution_count": 3,
   "metadata": {},
   "outputs": [],
   "source": [
    "data = pd.read_csv(\"soccer.csv\")"
   ]
  },
  {
   "cell_type": "code",
   "execution_count": 4,
   "metadata": {},
   "outputs": [
    {
     "data": {
      "text/html": [
       "<div>\n",
       "<style scoped>\n",
       "    .dataframe tbody tr th:only-of-type {\n",
       "        vertical-align: middle;\n",
       "    }\n",
       "\n",
       "    .dataframe tbody tr th {\n",
       "        vertical-align: top;\n",
       "    }\n",
       "\n",
       "    .dataframe thead th {\n",
       "        text-align: right;\n",
       "    }\n",
       "</style>\n",
       "<table border=\"1\" class=\"dataframe\">\n",
       "  <thead>\n",
       "    <tr style=\"text-align: right;\">\n",
       "      <th></th>\n",
       "      <th>match_date</th>\n",
       "      <th>home_country</th>\n",
       "      <th>away_country</th>\n",
       "      <th>home_score</th>\n",
       "      <th>away_score</th>\n",
       "      <th>match_type</th>\n",
       "      <th>match_city</th>\n",
       "      <th>match_country</th>\n",
       "      <th>home_team_result</th>\n",
       "    </tr>\n",
       "  </thead>\n",
       "  <tbody>\n",
       "    <tr>\n",
       "      <th>0</th>\n",
       "      <td>1872-11-30</td>\n",
       "      <td>Scotland</td>\n",
       "      <td>England</td>\n",
       "      <td>0.0</td>\n",
       "      <td>0.0</td>\n",
       "      <td>Friendly</td>\n",
       "      <td>Glasgow</td>\n",
       "      <td>Scotland</td>\n",
       "      <td>Draw</td>\n",
       "    </tr>\n",
       "    <tr>\n",
       "      <th>1</th>\n",
       "      <td>1873-03-08</td>\n",
       "      <td>England</td>\n",
       "      <td>Scotland</td>\n",
       "      <td>4.0</td>\n",
       "      <td>2.0</td>\n",
       "      <td>Friendly</td>\n",
       "      <td>London</td>\n",
       "      <td>England</td>\n",
       "      <td>Win</td>\n",
       "    </tr>\n",
       "    <tr>\n",
       "      <th>2</th>\n",
       "      <td>1874-03-07</td>\n",
       "      <td>Scotland</td>\n",
       "      <td>England</td>\n",
       "      <td>2.0</td>\n",
       "      <td>1.0</td>\n",
       "      <td>Friendly</td>\n",
       "      <td>Glasgow</td>\n",
       "      <td>Scotland</td>\n",
       "      <td>Win</td>\n",
       "    </tr>\n",
       "    <tr>\n",
       "      <th>3</th>\n",
       "      <td>1875-03-06</td>\n",
       "      <td>England</td>\n",
       "      <td>Scotland</td>\n",
       "      <td>2.0</td>\n",
       "      <td>2.0</td>\n",
       "      <td>Friendly</td>\n",
       "      <td>London</td>\n",
       "      <td>England</td>\n",
       "      <td>Draw</td>\n",
       "    </tr>\n",
       "    <tr>\n",
       "      <th>4</th>\n",
       "      <td>1876-03-04</td>\n",
       "      <td>Scotland</td>\n",
       "      <td>England</td>\n",
       "      <td>3.0</td>\n",
       "      <td>0.0</td>\n",
       "      <td>Friendly</td>\n",
       "      <td>Glasgow</td>\n",
       "      <td>Scotland</td>\n",
       "      <td>Win</td>\n",
       "    </tr>\n",
       "  </tbody>\n",
       "</table>\n",
       "</div>"
      ],
      "text/plain": [
       "   match_date home_country away_country  home_score  away_score match_type  \\\n",
       "0  1872-11-30     Scotland      England         0.0         0.0   Friendly   \n",
       "1  1873-03-08      England     Scotland         4.0         2.0   Friendly   \n",
       "2  1874-03-07     Scotland      England         2.0         1.0   Friendly   \n",
       "3  1875-03-06      England     Scotland         2.0         2.0   Friendly   \n",
       "4  1876-03-04     Scotland      England         3.0         0.0   Friendly   \n",
       "\n",
       "  match_city match_country home_team_result  \n",
       "0    Glasgow      Scotland             Draw  \n",
       "1     London       England              Win  \n",
       "2    Glasgow      Scotland              Win  \n",
       "3     London       England             Draw  \n",
       "4    Glasgow      Scotland              Win  "
      ]
     },
     "execution_count": 4,
     "metadata": {},
     "output_type": "execute_result"
    }
   ],
   "source": [
    "data.head()"
   ]
  },
  {
   "cell_type": "code",
   "execution_count": 5,
   "metadata": {},
   "outputs": [
    {
     "data": {
      "text/plain": [
       "match_date           0\n",
       "home_country         4\n",
       "away_country         8\n",
       "home_score           8\n",
       "away_score           7\n",
       "match_type          13\n",
       "match_city          10\n",
       "match_country        1\n",
       "home_team_result     0\n",
       "dtype: int64"
      ]
     },
     "execution_count": 5,
     "metadata": {},
     "output_type": "execute_result"
    }
   ],
   "source": [
    "data.isna().sum()"
   ]
  },
  {
   "cell_type": "code",
   "execution_count": 6,
   "metadata": {},
   "outputs": [
    {
     "data": {
      "text/plain": [
       "0.0"
      ]
     },
     "execution_count": 6,
     "metadata": {},
     "output_type": "execute_result"
    }
   ],
   "source": [
    "data['home_score'].min()"
   ]
  },
  {
   "cell_type": "code",
   "execution_count": 7,
   "metadata": {},
   "outputs": [
    {
     "data": {
      "text/plain": [
       "31.0"
      ]
     },
     "execution_count": 7,
     "metadata": {},
     "output_type": "execute_result"
    }
   ],
   "source": [
    "data['home_score'].max()"
   ]
  },
  {
   "cell_type": "code",
   "execution_count": 8,
   "metadata": {},
   "outputs": [
    {
     "data": {
      "text/plain": [
       "1.7289862192000414"
      ]
     },
     "execution_count": 8,
     "metadata": {},
     "output_type": "execute_result"
    }
   ],
   "source": [
    "data['home_score'].mean()"
   ]
  },
  {
   "cell_type": "code",
   "execution_count": 9,
   "metadata": {},
   "outputs": [
    {
     "data": {
      "text/plain": [
       "1.7222095183007942"
      ]
     },
     "execution_count": 9,
     "metadata": {},
     "output_type": "execute_result"
    }
   ],
   "source": [
    "data['home_score'].std()"
   ]
  },
  {
   "cell_type": "code",
   "execution_count": 10,
   "metadata": {},
   "outputs": [
    {
     "data": {
      "text/plain": [
       "2.9660056249258533"
      ]
     },
     "execution_count": 10,
     "metadata": {},
     "output_type": "execute_result"
    }
   ],
   "source": [
    "data['home_score'].var()"
   ]
  },
  {
   "cell_type": "code",
   "execution_count": 11,
   "metadata": {},
   "outputs": [
    {
     "data": {
      "text/plain": [
       "1.0"
      ]
     },
     "execution_count": 11,
     "metadata": {},
     "output_type": "execute_result"
    }
   ],
   "source": [
    "data['home_score'].median()"
   ]
  },
  {
   "cell_type": "code",
   "execution_count": 12,
   "metadata": {},
   "outputs": [
    {
     "data": {
      "text/plain": [
       "<matplotlib.axes._subplots.AxesSubplot at 0x246f38aca20>"
      ]
     },
     "execution_count": 12,
     "metadata": {},
     "output_type": "execute_result"
    },
    {
     "data": {
      "image/png": "[encoded data removed]",
      "text/plain": [
       "<Figure size 432x288 with 1 Axes>"
      ]
     },
     "metadata": {},
     "output_type": "display_data"
    }
   ],
   "source": [
    "data.boxplot(column=\"home_score\")"
   ]
  },
  {
   "cell_type": "code",
   "execution_count": 13,
   "metadata": {},
   "outputs": [],
   "source": [
    "data['home_score'].fillna(math.ceil(data['home_score'].mean()),inplace=True)"
   ]
  },
  {
   "cell_type": "code",
   "execution_count": 14,
   "metadata": {},
   "outputs": [
    {
     "data": {
      "text/plain": [
       "match_date           0\n",
       "home_country         4\n",
       "away_country         8\n",
       "home_score           0\n",
       "away_score           7\n",
       "match_type          13\n",
       "match_city          10\n",
       "match_country        1\n",
       "home_team_result     0\n",
       "dtype: int64"
      ]
     },
     "execution_count": 14,
     "metadata": {},
     "output_type": "execute_result"
    }
   ],
   "source": [
    "data.isna().sum()"
   ]
  },
  {
   "cell_type": "code",
   "execution_count": 15,
   "metadata": {},
   "outputs": [
    {
     "data": {
      "text/plain": [
       "0.0"
      ]
     },
     "execution_count": 15,
     "metadata": {},
     "output_type": "execute_result"
    }
   ],
   "source": [
    "data['away_score'].min()"
   ]
  },
  {
   "cell_type": "code",
   "execution_count": 16,
   "metadata": {},
   "outputs": [
    {
     "data": {
      "text/plain": [
       "22.0"
      ]
     },
     "execution_count": 16,
     "metadata": {},
     "output_type": "execute_result"
    }
   ],
   "source": [
    "data['away_score'].max()"
   ]
  },
  {
   "cell_type": "code",
   "execution_count": 17,
   "metadata": {},
   "outputs": [
    {
     "data": {
      "text/plain": [
       "1.1945291897202543"
      ]
     },
     "execution_count": 17,
     "metadata": {},
     "output_type": "execute_result"
    }
   ],
   "source": [
    "data['away_score'].mean()"
   ]
  },
  {
   "cell_type": "code",
   "execution_count": 18,
   "metadata": {},
   "outputs": [
    {
     "data": {
      "text/plain": [
       "1.0"
      ]
     },
     "execution_count": 18,
     "metadata": {},
     "output_type": "execute_result"
    }
   ],
   "source": [
    "data['away_score'].median()"
   ]
  },
  {
   "cell_type": "code",
   "execution_count": 19,
   "metadata": {},
   "outputs": [
    {
     "data": {
      "text/plain": [
       "0    0.0\n",
       "dtype: float64"
      ]
     },
     "execution_count": 19,
     "metadata": {},
     "output_type": "execute_result"
    }
   ],
   "source": [
    "data['away_score'].mode()"
   ]
  },
  {
   "cell_type": "code",
   "execution_count": 20,
   "metadata": {},
   "outputs": [
    {
     "data": {
      "text/plain": [
       "1.9521256140991257"
      ]
     },
     "execution_count": 20,
     "metadata": {},
     "output_type": "execute_result"
    }
   ],
   "source": [
    "data['away_score'].var()"
   ]
  },
  {
   "cell_type": "code",
   "execution_count": 21,
   "metadata": {},
   "outputs": [
    {
     "data": {
      "text/plain": [
       "1.3971848890176009"
      ]
     },
     "execution_count": 21,
     "metadata": {},
     "output_type": "execute_result"
    }
   ],
   "source": [
    "data['away_score'].std()"
   ]
  },
  {
   "cell_type": "code",
   "execution_count": 22,
   "metadata": {},
   "outputs": [
    {
     "data": {
      "text/plain": [
       "<matplotlib.axes._subplots.AxesSubplot at 0x246f34a4240>"
      ]
     },
     "execution_count": 22,
     "metadata": {},
     "output_type": "execute_result"
    },
    {
     "data": {
      "image/png": "[encoded data removed]",
      "text/plain": [
       "<Figure size 432x288 with 1 Axes>"
      ]
     },
     "metadata": {},
     "output_type": "display_data"
    }
   ],
   "source": [
    "data.boxplot(column=\"away_score\")"
   ]
  },
  {
   "cell_type": "code",
   "execution_count": 23,
   "metadata": {},
   "outputs": [],
   "source": [
    "data['away_score'].fillna(math.floor(data['away_score'].mean()),inplace=True)"
   ]
  },
  {
   "cell_type": "code",
   "execution_count": 24,
   "metadata": {},
   "outputs": [
    {
     "data": {
      "text/plain": [
       "match_date           0\n",
       "home_country         4\n",
       "away_country         8\n",
       "home_score           0\n",
       "away_score           0\n",
       "match_type          13\n",
       "match_city          10\n",
       "match_country        1\n",
       "home_team_result     0\n",
       "dtype: int64"
      ]
     },
     "execution_count": 24,
     "metadata": {},
     "output_type": "execute_result"
    }
   ],
   "source": [
    "data.isna().sum()"
   ]
  },
  {
   "cell_type": "code",
   "execution_count": 25,
   "metadata": {},
   "outputs": [
    {
     "data": {
      "text/plain": [
       "Friendly                                16196\n",
       "FIFA World Cup qualification             7071\n",
       "UEFA Euro qualification                  2330\n",
       "African Cup of Nations qualification     1558\n",
       "FIFA World Cup                            836\n",
       "Copa América                              786\n",
       "AFC Asian Cup qualification               711\n",
       "African Cup of Nations                    638\n",
       "CFU Caribbean Cup qualification           606\n",
       "CECAFA Cup                                600\n",
       "Merdeka Tournament                        504\n",
       "British Championship                      501\n",
       "Gulf Cup                                  333\n",
       "AFC Asian Cup                             319\n",
       "Gold Cup                                  297\n",
       "UEFA Euro                                 286\n",
       "Nordic Championship                       283\n",
       "AFF Championship                          267\n",
       "COSAFA Cup                                252\n",
       "CFU Caribbean Cup                         251\n",
       "Amílcar Cabral Cup                        235\n",
       "King's Cup                                234\n",
       "South Pacific Games                       198\n",
       "African Nations Championship              184\n",
       "UNCAF Cup                                 164\n",
       "Korea Cup                                 158\n",
       "Confederations Cup                        140\n",
       "International Cup                         127\n",
       "SAFF Cup                                  124\n",
       "CCCF Championship                         123\n",
       "                                        ...  \n",
       "Copa del Pacífico                          19\n",
       "Copa Rio Branco                            18\n",
       "Simba Tnmt.                                17\n",
       "Copa Carlos Dittborn                       16\n",
       "Copa Juan Pinto Durán                      16\n",
       "Copa Oswaldo Cruz                          16\n",
       "Millennium Cup                             15\n",
       "Dunhill Cup                                15\n",
       "UNIFFAC Cup                                15\n",
       "Copa Premio Honor Uruguayo                 15\n",
       "GaNEFo                                     14\n",
       "Nile Basin Tnmt.                           14\n",
       "Jordan International Tournament            13\n",
       "Copa Artigas                               13\n",
       "Copa Premio Honor Argentino                12\n",
       "King Hassan II Tournament                  12\n",
       "Rous Cup                                   11\n",
       "SKN Football Festival                      11\n",
       "Atlantic Cup                               11\n",
       "Copa Bernardo O'Higgins                    10\n",
       "Tournoi de France                          10\n",
       "UAFA Cup qualification                      9\n",
       "VFF Cup                                     9\n",
       "NAFU Championship                           7\n",
       "Mundialito                                  7\n",
       "Copa Félix Bogado                           6\n",
       "Copa Ramón Castilla                         6\n",
       "Nations Cup                                 6\n",
       "Dragon Cup                                  4\n",
       "OSN Cup                                     4\n",
       "Name: match_type, Length: 95, dtype: int64"
      ]
     },
     "execution_count": 25,
     "metadata": {},
     "output_type": "execute_result"
    }
   ],
   "source": [
    "data['match_type'].value_counts()"
   ]
  },
  {
   "cell_type": "code",
   "execution_count": 26,
   "metadata": {},
   "outputs": [],
   "source": [
    "data['match_type'].fillna('Friendly',inplace=True)"
   ]
  },
  {
   "cell_type": "code",
   "execution_count": 27,
   "metadata": {},
   "outputs": [
    {
     "data": {
      "text/plain": [
       "match_date           0\n",
       "home_country         4\n",
       "away_country         8\n",
       "home_score           0\n",
       "away_score           0\n",
       "match_type           0\n",
       "match_city          10\n",
       "match_country        1\n",
       "home_team_result     0\n",
       "dtype: int64"
      ]
     },
     "execution_count": 27,
     "metadata": {},
     "output_type": "execute_result"
    }
   ],
   "source": [
    "data.isna().sum()"
   ]
  },
  {
   "cell_type": "code",
   "execution_count": 28,
   "metadata": {},
   "outputs": [
    {
     "data": {
      "text/plain": [
       "USA                         1078\n",
       "France                       757\n",
       "Malaysia                     631\n",
       "England                      562\n",
       "Brazil                       497\n",
       "Sweden                       490\n",
       "Thailand                     476\n",
       "Switzerland                  464\n",
       "Italy                        458\n",
       "Austria                      453\n",
       "Argentina                    442\n",
       "Korea Republic               442\n",
       "Qatar                        442\n",
       "South Africa                 428\n",
       "Hungary                      411\n",
       "United Arab Emirates         407\n",
       "Spain                        405\n",
       "Chile                        400\n",
       "Netherlands                  384\n",
       "Belgium                      382\n",
       "Mexico                       382\n",
       "Norway                       377\n",
       "Uruguay                      368\n",
       "Trinidad and Tobago          367\n",
       "Germany                      365\n",
       "Denmark                      362\n",
       "Singapore                    361\n",
       "Saudi Arabia                 359\n",
       "Scotland                     354\n",
       "Poland                       354\n",
       "                            ... \n",
       "Rhodesia                       6\n",
       "Kosovo                         6\n",
       "Gold Coast                     6\n",
       "Mongolia                       6\n",
       "Yemen AR                       5\n",
       "Montserrat                     5\n",
       "Manchuria                      5\n",
       "Monaco                         5\n",
       "Northern Cyprus                5\n",
       "South Sudan                    5\n",
       "French Somaliland              4\n",
       "East Timor                     4\n",
       "Nyasaland                      4\n",
       "Palau                          3\n",
       "New Hebrides                   3\n",
       "Northern Mariana Islands       3\n",
       "Bohemia                        3\n",
       "Mayotte                        2\n",
       "Turks and Caicos Islands       2\n",
       "Yemen DPR                      2\n",
       "Bohemia and Moravia            2\n",
       "Greenland                      2\n",
       "Portuguese Guinea              1\n",
       "Turkemnistan                   1\n",
       "Gabom                          1\n",
       "Mali Federation                1\n",
       "Nauru                          1\n",
       "Tukey                          1\n",
       "Belgian Congo                  1\n",
       "Micronesia FS                  1\n",
       "Name: match_country, Length: 268, dtype: int64"
      ]
     },
     "execution_count": 28,
     "metadata": {},
     "output_type": "execute_result"
    }
   ],
   "source": [
    "data['match_country'].value_counts()"
   ]
  },
  {
   "cell_type": "code",
   "execution_count": 29,
   "metadata": {},
   "outputs": [
    {
     "data": {
      "text/plain": [
       "(38685, 9)"
      ]
     },
     "execution_count": 29,
     "metadata": {},
     "output_type": "execute_result"
    }
   ],
   "source": [
    "data.shape"
   ]
  },
  {
   "cell_type": "code",
   "execution_count": 30,
   "metadata": {},
   "outputs": [
    {
     "data": {
      "text/plain": [
       "(28368, 9)"
      ]
     },
     "execution_count": 30,
     "metadata": {},
     "output_type": "execute_result"
    }
   ],
   "source": [
    "data[data['home_country']==data['match_country']].shape"
   ]
  },
  {
   "cell_type": "code",
   "execution_count": 31,
   "metadata": {},
   "outputs": [],
   "source": [
    "data['match_country'].fillna(data['home_country'],inplace=True)"
   ]
  },
  {
   "cell_type": "code",
   "execution_count": 32,
   "metadata": {},
   "outputs": [
    {
     "data": {
      "text/plain": [
       "match_date           0\n",
       "home_country         4\n",
       "away_country         8\n",
       "home_score           0\n",
       "away_score           0\n",
       "match_type           0\n",
       "match_city          10\n",
       "match_country        0\n",
       "home_team_result     0\n",
       "dtype: int64"
      ]
     },
     "execution_count": 32,
     "metadata": {},
     "output_type": "execute_result"
    }
   ],
   "source": [
    "data.isna().sum()"
   ]
  },
  {
   "cell_type": "code",
   "execution_count": 33,
   "metadata": {},
   "outputs": [],
   "source": [
    "data['home_country'].fillna(data['match_country'],inplace=True)"
   ]
  },
  {
   "cell_type": "code",
   "execution_count": 34,
   "metadata": {},
   "outputs": [
    {
     "data": {
      "text/plain": [
       "match_date           0\n",
       "home_country         0\n",
       "away_country         8\n",
       "home_score           0\n",
       "away_score           0\n",
       "match_type           0\n",
       "match_city          10\n",
       "match_country        0\n",
       "home_team_result     0\n",
       "dtype: int64"
      ]
     },
     "execution_count": 34,
     "metadata": {},
     "output_type": "execute_result"
    }
   ],
   "source": [
    "data.isna().sum()"
   ]
  },
  {
   "cell_type": "code",
   "execution_count": 38,
   "metadata": {},
   "outputs": [
    {
     "data": {
      "text/plain": [
       "Uruguay                      518\n",
       "Sweden                       515\n",
       "England                      499\n",
       "Hungary                      465\n",
       "Germany                      439\n",
       "Paraguay                     438\n",
       "Poland                       419\n",
       "Argentina                    414\n",
       "Finland                      402\n",
       "Zambia                       401\n",
       "Norway                       395\n",
       "Brazil                       394\n",
       "Scotland                     388\n",
       "Russia                       383\n",
       "Korea Republic               382\n",
       "Denmark                      379\n",
       "Switzerland                  379\n",
       "Netherlands                  361\n",
       "Bulgaria                     360\n",
       "Romania                      356\n",
       "Mexico                       351\n",
       "Austria                      350\n",
       "France                       349\n",
       "Belgium                      349\n",
       "Italy                        348\n",
       "Chile                        347\n",
       "Trinidad and Tobago          343\n",
       "Peru                         325\n",
       "Wales                        321\n",
       "Northern Ireland             319\n",
       "                            ... \n",
       "Wallis Islands and Futuna     21\n",
       "São Tomé and Príncipe         20\n",
       "Samoa                         20\n",
       "Montserrat                    20\n",
       "St Martin                     20\n",
       "American Samoa                20\n",
       "North Vietnam                 19\n",
       "Gibraltar                     15\n",
       "Bahamas                       15\n",
       "Sint Maarten                  13\n",
       "Tuvalu                        12\n",
       "Mayotte                       12\n",
       "Turks and Caicos Islands      11\n",
       "Northern Mariana Islands      11\n",
       "South Sudan                   10\n",
       "Jersey                        10\n",
       "Guernsey                      10\n",
       "Bonaire                        9\n",
       "Kiribati                       6\n",
       "St Pierre & Miquelon           6\n",
       "Kosovo                         6\n",
       "Greenland                      6\n",
       "Tibet                          6\n",
       "Micronesia FS                  5\n",
       "Saarland                       3\n",
       "Monaco                         3\n",
       "Northern Cyprus                3\n",
       "Vatican                        3\n",
       "St Barthélemy                  1\n",
       "Manchukuo                      1\n",
       "Name: away_country, Length: 243, dtype: int64"
      ]
     },
     "execution_count": 38,
     "metadata": {},
     "output_type": "execute_result"
    }
   ],
   "source": [
    "data['away_country'].value_counts()"
   ]
  },
  {
   "cell_type": "code",
   "execution_count": 36,
   "metadata": {},
   "outputs": [
    {
     "data": {
      "text/plain": [
       "Kuala Lumpur               567\n",
       "Bangkok                    421\n",
       "Doha                       413\n",
       "Budapest                   375\n",
       "London                     372\n",
       "Montevideo                 343\n",
       "Vienna                     329\n",
       "Copenhagen                 319\n",
       "Kuwait                     317\n",
       "Oslo                       314\n",
       "Buenos Aires               313\n",
       "Glasgow                    309\n",
       "Seoul                      288\n",
       "Santiago                   287\n",
       "Belfast                    284\n",
       "Dublin                     282\n",
       "Kampala                    277\n",
       "Nairobi                    275\n",
       "Lima                       261\n",
       "Helsinki                   248\n",
       "Brussels                   245\n",
       "San José                   244\n",
       "Teheran                    239\n",
       "Port of Spain              237\n",
       "Solna                      235\n",
       "Jakarta                    233\n",
       "Kingston                   233\n",
       "Cairo                      231\n",
       "Muscat                     231\n",
       "Sofia                      229\n",
       "                          ... \n",
       "Jiangyin                     1\n",
       "Misrata                      1\n",
       "Masan                        1\n",
       "Kayès                        1\n",
       "Kaolack                      1\n",
       "Molenbeek                    1\n",
       "Mamoudzou                    1\n",
       "Talca                        1\n",
       "Latacunga                    1\n",
       "Ciudad Madero                1\n",
       "Warri                        1\n",
       "Baiersbronn                  1\n",
       "Beit She'an                  1\n",
       "Windsor                      1\n",
       "Saint-Laurent-du-Maroni      1\n",
       "Nchalo                       1\n",
       "Zanzibar Town                1\n",
       "Gangtok                      1\n",
       "Saint-Brieuc                 1\n",
       "Yacuiba                      1\n",
       "Sandefjord                   1\n",
       "Hrodna                       1\n",
       "Loja                         1\n",
       "Ulan Bator                   1\n",
       "Chalcis                      1\n",
       "Texcoco                      1\n",
       "Domžale                      1\n",
       "Vicenza                      1\n",
       "al-Ahsa                      1\n",
       "Kalmar                       1\n",
       "Name: match_city, Length: 1795, dtype: int64"
      ]
     },
     "execution_count": 36,
     "metadata": {},
     "output_type": "execute_result"
    }
   ],
   "source": [
    "data['match_city'].value_counts()"
   ]
  },
  {
   "cell_type": "code",
   "execution_count": 37,
   "metadata": {},
   "outputs": [],
   "source": [
    "import sklearn"
   ]
  },
  {
   "cell_type": "code",
   "execution_count": 38,
   "metadata": {},
   "outputs": [
    {
     "data": {
      "text/plain": [
       "Index(['match_date', 'home_country', 'away_country', 'home_score',\n",
       "       'away_score', 'match_type', 'match_city', 'match_country',\n",
       "       'home_team_result'],\n",
       "      dtype='object')"
      ]
     },
     "execution_count": 38,
     "metadata": {},
     "output_type": "execute_result"
    }
   ],
   "source": [
    "data.columns"
   ]
  },
  {
   "cell_type": "code",
   "execution_count": 39,
   "metadata": {},
   "outputs": [],
   "source": [
    "features = data.iloc[:,[1,2,3,4,6]].values"
   ]
  },
  {
   "cell_type": "code",
   "execution_count": 40,
   "metadata": {},
   "outputs": [
    {
     "data": {
      "text/plain": [
       "array([['Scotland', 'England', 0.0, 0.0, 'Glasgow'],\n",
       "       ['England', 'Scotland', 4.0, 2.0, 'London'],\n",
       "       ['Scotland', 'England', 2.0, 1.0, 'Glasgow'],\n",
       "       ...,\n",
       "       ['Trinidad and Tobago', 'Guyana', 1.0, 1.0, 'Couva'],\n",
       "       ['Australia', 'Honduras', 3.0, 1.0, 'Sydney'],\n",
       "       ['Peru', 'New Zealand', 2.0, 0.0, 'Lima']], dtype=object)"
      ]
     },
     "execution_count": 40,
     "metadata": {},
     "output_type": "execute_result"
    }
   ],
   "source": [
    "features"
   ]
  },
  {
   "cell_type": "code",
   "execution_count": 41,
   "metadata": {},
   "outputs": [],
   "source": [
    "labels=data.iloc[:,-1].values"
   ]
  },
  {
   "cell_type": "code",
   "execution_count": 42,
   "metadata": {},
   "outputs": [
    {
     "data": {
      "text/plain": [
       "array(['Draw', 'Win', 'Win', ..., 'Draw', 'Win', 'Win'], dtype=object)"
      ]
     },
     "execution_count": 42,
     "metadata": {},
     "output_type": "execute_result"
    }
   ],
   "source": [
    "labels"
   ]
  },
  {
   "cell_type": "code",
   "execution_count": 48,
   "metadata": {},
   "outputs": [],
   "source": [
    "df1=pd.DataFrame(features)"
   ]
  },
  {
   "cell_type": "code",
   "execution_count": 49,
   "metadata": {},
   "outputs": [
    {
     "data": {
      "text/plain": [
       "0     0\n",
       "1     8\n",
       "2     0\n",
       "3     0\n",
       "4    10\n",
       "dtype: int64"
      ]
     },
     "execution_count": 49,
     "metadata": {},
     "output_type": "execute_result"
    }
   ],
   "source": [
    "df1.isna().sum()"
   ]
  },
  {
   "cell_type": "code",
   "execution_count": 50,
   "metadata": {},
   "outputs": [],
   "source": [
    "cols=[1,4]\n",
    "df1[cols]=df1[cols].fillna(df1.mode().iloc[0])"
   ]
  },
  {
   "cell_type": "code",
   "execution_count": 51,
   "metadata": {},
   "outputs": [],
   "source": [
    "data['away_country']=df1[1]"
   ]
  },
  {
   "cell_type": "code",
   "execution_count": 52,
   "metadata": {},
   "outputs": [
    {
     "data": {
      "text/plain": [
       "match_date           0\n",
       "home_country         0\n",
       "away_country         0\n",
       "home_score           0\n",
       "away_score           0\n",
       "match_type           0\n",
       "match_city          10\n",
       "match_country        0\n",
       "home_team_result     0\n",
       "dtype: int64"
      ]
     },
     "execution_count": 52,
     "metadata": {},
     "output_type": "execute_result"
    }
   ],
   "source": [
    "data.isna().sum()"
   ]
  },
  {
   "cell_type": "code",
   "execution_count": 53,
   "metadata": {},
   "outputs": [],
   "source": [
    "data['match_city']=df1[4]"
   ]
  },
  {
   "cell_type": "code",
   "execution_count": 54,
   "metadata": {},
   "outputs": [
    {
     "data": {
      "text/plain": [
       "match_date          0\n",
       "home_country        0\n",
       "away_country        0\n",
       "home_score          0\n",
       "away_score          0\n",
       "match_type          0\n",
       "match_city          0\n",
       "match_country       0\n",
       "home_team_result    0\n",
       "dtype: int64"
      ]
     },
     "execution_count": 54,
     "metadata": {},
     "output_type": "execute_result"
    }
   ],
   "source": [
    "data.isna().sum()"
   ]
  },
  {
   "cell_type": "code",
   "execution_count": null,
   "metadata": {},
   "outputs": [],
   "source": []
  }
 ],
 "metadata": {
  "kernelspec": {
   "display_name": "Python 3",
   "language": "python",
   "name": "python3"
  },
  "language_info": {
   "codemirror_mode": {
    "name": "ipython",
    "version": 3
   },
   "file_extension": ".py",
   "mimetype": "text/x-python",
   "name": "python",
   "nbconvert_exporter": "python",
   "pygments_lexer": "ipython3",
   "version": "3.6.5"
  }
 },
 "nbformat": 4,
 "nbformat_minor": 2
}
